{
 "cells": [
  {
   "cell_type": "code",
   "execution_count": 2,
   "metadata": {},
   "outputs": [
    {
     "data": {
      "text/markdown": [
       "# Pipeline 1"
      ],
      "text/plain": [
       "<IPython.core.display.Markdown object>"
      ]
     },
     "metadata": {},
     "output_type": "display_data"
    }
   ],
   "source": [
    "%%markdown\n",
    "# Pipeline 1"
   ]
  },
  {
   "cell_type": "code",
   "execution_count": 1,
   "metadata": {},
   "outputs": [
    {
     "name": "stdout",
     "output_type": "stream",
     "text": [
      "Best estimator:\n",
      "Pipeline(memory=None,\n",
      "     steps=[('pca', PCA(copy=True, iterated_power='auto', n_components=15, random_state=None,\n",
      "  svd_solver='auto', tol=0.0, whiten=False)), ('scaler', StandardScaler(copy=True, with_mean=True, with_std=True)), ('classifier', SVC(C=1.0, cache_size=200, class_weight=None, coef0=0.0,\n",
      "  decision_function_shape='ovr', degree=2, gamma=0.2, kernel='rbf',\n",
      "  max_iter=-1, probability=False, random_state=None, shrinking=True,\n",
      "  tol=0.001, verbose=False))])\n",
      "Best score:\n",
      "0.924\n"
     ]
    }
   ],
   "source": [
    "from __future__ import print_function\n",
    "\n",
    "import numpy as np\n",
    "\n",
    "from sklearn.datasets import make_classification\n",
    "from sklearn.decomposition import PCA\n",
    "from sklearn.model_selection import GridSearchCV\n",
    "from sklearn.pipeline import Pipeline\n",
    "from sklearn.preprocessing import StandardScaler\n",
    "from sklearn.svm import SVC\n",
    "\n",
    "# For reproducibility\n",
    "np.random.seed(1000)\n",
    "\n",
    "nb_samples = 500\n",
    "\n",
    "\n",
    "if __name__ == '__main__':\n",
    "    # Create the dataset\n",
    "    X, Y = make_classification(n_samples=nb_samples, n_informative=15, n_redundant=5, n_classes=2)\n",
    "\n",
    "    # Create the steps for the pipeline\n",
    "    pca = PCA(n_components=10)\n",
    "    scaler = StandardScaler()\n",
    "    svc = SVC(kernel='poly', gamma=3)\n",
    "\n",
    "    steps = [\n",
    "                ('pca', pca),\n",
    "                ('scaler', scaler),\n",
    "        ('classifier', svc)\n",
    "    ]\n",
    "\n",
    "    # Create the pipeline\n",
    "    pipeline = Pipeline(steps)\n",
    "\n",
    "    # Perform a grid search\n",
    "    param_grid = {\n",
    "        'pca__n_components': [5, 10, 12, 15, 18, 20],\n",
    "        'classifier__kernel': ['rbf', 'poly'],\n",
    "        'classifier__gamma': [0.05, 0.1, 0.2, 0.5],\n",
    "        'classifier__degree': [2, 3, 5]\n",
    "    }\n",
    "\n",
    "    gs = GridSearchCV(pipeline, param_grid)\n",
    "    gs.fit(X, Y)\n",
    "\n",
    "    print('Best estimator:')\n",
    "    print(gs.best_estimator_)\n",
    "\n",
    "    print('Best score:')\n",
    "    print(gs.best_score_)"
   ]
  },
  {
   "cell_type": "code",
   "execution_count": 3,
   "metadata": {},
   "outputs": [
    {
     "data": {
      "text/markdown": [
       "# Pipeline 2"
      ],
      "text/plain": [
       "<IPython.core.display.Markdown object>"
      ]
     },
     "metadata": {},
     "output_type": "display_data"
    }
   ],
   "source": [
    "%%markdown\n",
    "# Pipeline 2"
   ]
  },
  {
   "cell_type": "code",
   "execution_count": 4,
   "metadata": {},
   "outputs": [
    {
     "name": "stdout",
     "output_type": "stream",
     "text": [
      "Best estimator:\n",
      "Pipeline(memory=None,\n",
      "     steps=[('dimensionality_reduction', NMF(alpha=0.0, beta_loss='frobenius', init=None, l1_ratio=0.0, max_iter=200,\n",
      "  n_components=30, random_state=None, shuffle=False, solver='cd',\n",
      "  tol=0.0001, verbose=0)), ('normalization', StandardScaler(copy=True, with_mean=True, with_std=True)), ('classification'...,\n",
      "  max_iter=-1, probability=False, random_state=None, shrinking=True,\n",
      "  tol=0.001, verbose=False))])\n",
      "Best score:\n",
      "0.9693934335\n"
     ]
    }
   ],
   "source": [
    "from __future__ import print_function\n",
    "\n",
    "import numpy as np\n",
    "import warnings\n",
    "\n",
    "from sklearn.datasets import load_digits\n",
    "from sklearn.decomposition import PCA, NMF\n",
    "from sklearn.feature_selection import SelectKBest, f_classif\n",
    "from sklearn.linear_model import LogisticRegression\n",
    "from sklearn.model_selection import GridSearchCV\n",
    "from sklearn.pipeline import Pipeline\n",
    "from sklearn.preprocessing import StandardScaler\n",
    "from sklearn.svm import SVC\n",
    "\n",
    "# For reproducibility\n",
    "np.random.seed(1000)\n",
    "\n",
    "\n",
    "if __name__ == '__main__':\n",
    "    warnings.simplefilter(\"ignore\")\n",
    "\n",
    "    # Load the dataset\n",
    "    digits = load_digits()\n",
    "\n",
    "    # Create the steps for the pipeline\n",
    "    pca = PCA()\n",
    "    nmf = NMF()\n",
    "    scaler = StandardScaler()\n",
    "    kbest = SelectKBest(f_classif)\n",
    "    lr = LogisticRegression()\n",
    "    svc = SVC()\n",
    "\n",
    "    pipeline_steps = [\n",
    "        ('dimensionality_reduction', pca),\n",
    "        ('normalization', scaler),\n",
    "        ('classification', lr)\n",
    "    ]\n",
    "\n",
    "    # Create the pipeline\n",
    "    pipeline = Pipeline(pipeline_steps)\n",
    "\n",
    "    # Perform a grid search\n",
    "    pca_nmf_components = [10, 20, 30]\n",
    "\n",
    "    param_grid = [\n",
    "        {\n",
    "            'dimensionality_reduction': [pca],\n",
    "            'dimensionality_reduction__n_components': pca_nmf_components,\n",
    "            'classification': [lr],\n",
    "            'classification__C': [1, 5, 10, 20]\n",
    "        },\n",
    "        {\n",
    "            'dimensionality_reduction': [pca],\n",
    "            'dimensionality_reduction__n_components': pca_nmf_components,\n",
    "            'classification': [svc],\n",
    "            'classification__kernel': ['rbf', 'poly'],\n",
    "            'classification__gamma': [0.05, 0.1, 0.2, 0.5, 1.0],\n",
    "            'classification__degree': [2, 3, 5],\n",
    "            'classification__C': [1, 5, 10, 20]\n",
    "        },\n",
    "        {\n",
    "            'dimensionality_reduction': [nmf],\n",
    "            'dimensionality_reduction__n_components': pca_nmf_components,\n",
    "            'classification': [lr],\n",
    "            'classification__C': [1, 5, 10, 20]\n",
    "        },\n",
    "        {\n",
    "            'dimensionality_reduction': [nmf],\n",
    "            'dimensionality_reduction__n_components': pca_nmf_components,\n",
    "            'classification': [svc],\n",
    "            'classification__kernel': ['rbf', 'poly'],\n",
    "            'classification__gamma': [0.05, 0.1, 0.2, 0.5, 1.0],\n",
    "            'classification__degree': [2, 3, 5],\n",
    "            'classification__C': [1, 5, 10, 20]\n",
    "        },\n",
    "        {\n",
    "            'dimensionality_reduction': [kbest],\n",
    "            'classification': [svc],\n",
    "            'classification__kernel': ['rbf', 'poly'],\n",
    "            'classification__gamma': [0.05, 0.1, 0.2, 0.5, 1.0],\n",
    "            'classification__degree': [2, 3, 5],\n",
    "            'classification__C': [1, 5, 10, 20]\n",
    "        },\n",
    "    ]\n",
    "\n",
    "    gs = GridSearchCV(pipeline, param_grid)\n",
    "    gs.fit(digits.data, digits.target)\n",
    "\n",
    "    print('Best estimator:')\n",
    "    print(gs.best_estimator_)\n",
    "\n",
    "    print('Best score:')\n",
    "    print(gs.best_score_)\n",
    "    "
   ]
  },
  {
   "cell_type": "code",
   "execution_count": 5,
   "metadata": {},
   "outputs": [
    {
     "data": {
      "text/markdown": [
       "# Feature Union"
      ],
      "text/plain": [
       "<IPython.core.display.Markdown object>"
      ]
     },
     "metadata": {},
     "output_type": "display_data"
    }
   ],
   "source": [
    "%%markdown\n",
    "# Feature Union"
   ]
  },
  {
   "cell_type": "code",
   "execution_count": 6,
   "metadata": {},
   "outputs": [
    {
     "name": "stdout",
     "output_type": "stream",
     "text": [
      "Cross-validation score:\n",
      "0.965464333604\n"
     ]
    }
   ],
   "source": [
    "from __future__ import print_function\n",
    "\n",
    "import numpy as np\n",
    "import warnings\n",
    "\n",
    "from sklearn.datasets import load_digits\n",
    "from sklearn.decomposition import PCA\n",
    "from sklearn.feature_selection import SelectKBest, f_classif\n",
    "from sklearn.model_selection import cross_val_score\n",
    "from sklearn.pipeline import Pipeline, FeatureUnion\n",
    "from sklearn.preprocessing import StandardScaler\n",
    "from sklearn.svm import SVC\n",
    "\n",
    "# For reproducibility\n",
    "np.random.seed(1000)\n",
    "\n",
    "\n",
    "if __name__ == '__main__':\n",
    "    warnings.simplefilter(\"ignore\")\n",
    "\n",
    "    # Load the dataset\n",
    "    digits = load_digits()\n",
    "\n",
    "    # Create the steps for a feature union\n",
    "    steps_fu = [\n",
    "        ('pca', PCA(n_components=10)),\n",
    "        ('kbest', SelectKBest(f_classif, k=5)),\n",
    "    ]\n",
    "\n",
    "    # Create the steps for the pipeline\n",
    "    fu = FeatureUnion(steps_fu)\n",
    "    scaler = StandardScaler()\n",
    "    svc = SVC(kernel='rbf', C=5.0, gamma=0.05)\n",
    "\n",
    "    pipeline_steps = [\n",
    "        ('fu', fu),\n",
    "        ('scaler', scaler),\n",
    "        ('classifier', svc)\n",
    "    ]\n",
    "\n",
    "    pipeline = Pipeline(pipeline_steps)\n",
    "\n",
    "    print('Cross-validation score:')\n",
    "    print(cross_val_score(pipeline, digits.data, digits.target, cv=10).mean())\n",
    "    "
   ]
  },
  {
   "cell_type": "code",
   "execution_count": null,
   "metadata": {},
   "outputs": [],
   "source": []
  }
 ],
 "metadata": {
  "kernelspec": {
   "display_name": "Python 3",
   "language": "python",
   "name": "python3"
  },
  "language_info": {
   "codemirror_mode": {
    "name": "ipython",
    "version": 3
   },
   "file_extension": ".py",
   "mimetype": "text/x-python",
   "name": "python",
   "nbconvert_exporter": "python",
   "pygments_lexer": "ipython3",
   "version": "3.4.5"
  }
 },
 "nbformat": 4,
 "nbformat_minor": 2
}
