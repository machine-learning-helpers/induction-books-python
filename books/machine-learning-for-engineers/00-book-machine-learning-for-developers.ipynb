{
 "cells": [
  {
   "cell_type": "code",
   "execution_count": 9,
   "metadata": {},
   "outputs": [
    {
     "data": {
      "text/markdown": [
       "# Book\n",
       "* [Machine Learning for Developers](http://www.packtpub.com/big-data-and-business-intelligence/machine-learning-developers), by Rodolfo Bonnin, Packt Publishing, October 2017\n",
       "\n",
       "# Source Code\n",
       "* [Packt's GitHub repository](http://github.com/PacktPublishing/Machine-Learning-for-Developers)\n",
       "* [Python-Jupyter ML Docker images (this repository)](http://github.com/machine-learning-helpers/docker-images-python-jupyter/tree/master/notebook/induction/books/machine-learning-for-engineers/)"
      ],
      "text/plain": [
       "<IPython.core.display.Markdown object>"
      ]
     },
     "metadata": {},
     "output_type": "display_data"
    }
   ],
   "source": [
    "%%markdown\n",
    "# Book\n",
    "* [Machine Learning for Developers](http://www.packtpub.com/big-data-and-business-intelligence/machine-learning-developers), by Rodolfo Bonnin, Packt Publishing, October 2017\n",
    "\n",
    "# Source Code\n",
    "* [Packt's GitHub repository](http://github.com/PacktPublishing/Machine-Learning-for-Developers)\n",
    "* [Python-Jupyter ML Docker images (this repository)](http://github.com/machine-learning-helpers/docker-images-python-jupyter/tree/master/notebook/induction/books/machine-learning-for-engineers/)"
   ]
  },
  {
   "cell_type": "code",
   "execution_count": null,
   "metadata": {},
   "outputs": [],
   "source": []
  }
 ],
 "metadata": {
  "kernelspec": {
   "display_name": "Python 3",
   "language": "python",
   "name": "python3"
  },
  "language_info": {
   "codemirror_mode": {
    "name": "ipython",
    "version": 3
   },
   "file_extension": ".py",
   "mimetype": "text/x-python",
   "name": "python",
   "nbconvert_exporter": "python",
   "pygments_lexer": "ipython3",
   "version": "3.4.5"
  }
 },
 "nbformat": 4,
 "nbformat_minor": 2
}
