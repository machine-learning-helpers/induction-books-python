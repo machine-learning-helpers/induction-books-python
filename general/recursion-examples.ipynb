{
 "cells": [
  {
   "cell_type": "code",
   "execution_count": 60,
   "metadata": {},
   "outputs": [],
   "source": [
    "import numpy as np"
   ]
  },
  {
   "cell_type": "code",
   "execution_count": 61,
   "metadata": {},
   "outputs": [
    {
     "data": {
      "text/markdown": [
       "# Recursion - Examples\n",
       "## Factorial\n",
       "\\begin{align}\n",
       "!n &= !(n-1).n \\\\\n",
       "!0 &= 1\n",
       "\\end{align}"
      ],
      "text/plain": [
       "<IPython.core.display.Markdown object>"
      ]
     },
     "metadata": {},
     "output_type": "display_data"
    }
   ],
   "source": [
    "%%markdown\n",
    "# Recursion - Examples\n",
    "## Factorial\n",
    "\\begin{align}\n",
    "!n &= !(n-1).n \\\\\n",
    "!0 &= 1\n",
    "\\end{align}"
   ]
  },
  {
   "cell_type": "code",
   "execution_count": 62,
   "metadata": {},
   "outputs": [],
   "source": [
    "def factorial (n):\n",
    "    if (n >= 1):\n",
    "        return (n-1)*n\n",
    "    else:\n",
    "        return 1\n"
   ]
  },
  {
   "cell_type": "code",
   "execution_count": 63,
   "metadata": {},
   "outputs": [
    {
     "name": "stdout",
     "output_type": "stream",
     "text": [
      "Factorial of  4 12\n"
     ]
    }
   ],
   "source": [
    "n = 4\n",
    "print (\"Factorial of \", n, factorial(n))"
   ]
  },
  {
   "cell_type": "code",
   "execution_count": 80,
   "metadata": {},
   "outputs": [
    {
     "data": {
      "text/markdown": [
       "## Determinant of a matrix\n",
       "* [Laplace's formula](http://en.wikipedia.org/wiki/Determinant#Laplace's_formula_and_the_adjugate_matrix)\n",
       "\\begin{align}\n",
       "\\det(A)=\\sum _{j=1}^{n}(-1)^{i+j}a_{i,j}M_{i,j} \\text{ for a fixed } i\n",
       "\\end{align}\n",
       "* With $i = 1$\n",
       "\\begin{align}\n",
       "\\det(A)=\\sum _{j=1}^{n}(-1)^{j+1}a_{1,j}M_{1,j}\n",
       "\\end{align}"
      ],
      "text/plain": [
       "<IPython.core.display.Markdown object>"
      ]
     },
     "metadata": {},
     "output_type": "display_data"
    }
   ],
   "source": [
    "%%markdown\n",
    "## Determinant of a matrix\n",
    "* [Laplace's formula](http://en.wikipedia.org/wiki/Determinant#Laplace's_formula_and_the_adjugate_matrix)\n",
    "\\begin{align}\n",
    "\\det(A)=\\sum _{j=1}^{n}(-1)^{i+j}a_{i,j}M_{i,j} \\text{ for a fixed } i\n",
    "\\end{align}\n",
    "* With $i = 1$\n",
    "\\begin{align}\n",
    "\\det(A)=\\sum _{j=1}^{n}(-1)^{j+1}a_{1,j}M_{1,j}\n",
    "\\end{align}"
   ]
  },
  {
   "cell_type": "code",
   "execution_count": 194,
   "metadata": {},
   "outputs": [
    {
     "data": {
      "text/markdown": [
       "A = \\begin{bmatrix}\n",
       " -2 & 2 & -3 \\\\\n",
       " -1 & 1 &  3 \\\\\n",
       "  2 & 0 & -1\n",
       "\\end{bmatrix}\n",
       "\n",
       "along the second column ($j = 2$ and the sum runs over $i$) is given by,\n",
       "\\begin{align}\n",
       "det(A) &= (-1)^{1+2} \\cdot 2 \\cdot \\begin{vmatrix}-1&3 \\\\ 2&-1\\end{vmatrix} + (-1)^{2+2} \\cdot 1 \\cdot \\begin{vmatrix} -2&-3 \\\\ 2&-1 \\end{vmatrix} + (-1)^{3+2} \\cdot 0 \\cdot \\begin{vmatrix} -2&-3\\\\-1&3\\end{vmatrix} \\\\\n",
       " &= (-2) \\cdot ((-1) \\cdot (-1) - 2 \\cdot 3) + 1 \\cdot ((-2) \\cdot (-1)-2 \\cdot (-3)) \\\\\n",
       " &= (-2) \\cdot (-5)+8=18.\n",
       "\\end{align}\n",
       "\n",
       "along the first column ($j = 1$ and the sum runs over $i$) is given by,\n",
       "\\begin{align}\n",
       "det(A) &= (-1)^{1+1} \\cdot -2 \\cdot \\begin{vmatrix} 1&3 \\\\ 0&-1\\end{vmatrix} + (-1)^{2+1} \\cdot -1 \\cdot \\begin{vmatrix} 2&-3 \\\\ 0&-1 \\end{vmatrix} + (-1)^{3+1} \\cdot 2 \\cdot \\begin{vmatrix} 2&-3\\\\1&3\\end{vmatrix} \\\\\n",
       " &= -2 \\cdot (1 \\cdot (-1)) + 1 \\cdot (2 \\cdot (-1)) + 2 \\cdot (2 \\cdot 3 - 1 \\cdot (-3)) \\\\\n",
       " &= -2 \\cdot (-1) + 1 \\cdot (-2 ) + 2 \\cdot (6 + 3) \\\\\n",
       " &= 2 -2 + 2 \\cdot 9 = 18.\n",
       "\\end{align}"
      ],
      "text/plain": [
       "<IPython.core.display.Markdown object>"
      ]
     },
     "metadata": {},
     "output_type": "display_data"
    }
   ],
   "source": [
    "%%markdown\n",
    "A = \\begin{bmatrix}\n",
    " -2 & 2 & -3 \\\\\n",
    " -1 & 1 &  3 \\\\\n",
    "  2 & 0 & -1\n",
    "\\end{bmatrix}\n",
    "\n",
    "along the second column ($j = 2$ and the sum runs over $i$) is given by,\n",
    "\\begin{align}\n",
    "det(A) &= (-1)^{1+2} \\cdot 2 \\cdot \\begin{vmatrix}-1&3 \\\\ 2&-1\\end{vmatrix} + (-1)^{2+2} \\cdot 1 \\cdot \\begin{vmatrix} -2&-3 \\\\ 2&-1 \\end{vmatrix} + (-1)^{3+2} \\cdot 0 \\cdot \\begin{vmatrix} -2&-3\\\\-1&3\\end{vmatrix} \\\\\n",
    " &= (-2) \\cdot ((-1) \\cdot (-1) - 2 \\cdot 3) + 1 \\cdot ((-2) \\cdot (-1)-2 \\cdot (-3)) \\\\\n",
    " &= (-2) \\cdot (-5)+8=18.\n",
    "\\end{align}\n",
    "\n",
    "along the first column ($j = 1$ and the sum runs over $i$) is given by,\n",
    "\\begin{align}\n",
    "det(A) &= (-1)^{1+1} \\cdot -2 \\cdot \\begin{vmatrix} 1&3 \\\\ 0&-1\\end{vmatrix} + (-1)^{2+1} \\cdot -1 \\cdot \\begin{vmatrix} 2&-3 \\\\ 0&-1 \\end{vmatrix} + (-1)^{3+1} \\cdot 2 \\cdot \\begin{vmatrix} 2&-3\\\\1&3\\end{vmatrix} \\\\\n",
    " &= -2 \\cdot (1 \\cdot (-1)) + 1 \\cdot (2 \\cdot (-1)) + 2 \\cdot (2 \\cdot 3 - 1 \\cdot (-3)) \\\\\n",
    " &= -2 \\cdot (-1) + 1 \\cdot (-2 ) + 2 \\cdot (6 + 3) \\\\\n",
    " &= 2 -2 + 2 \\cdot 9 = 18.\n",
    "\\end{align}"
   ]
  },
  {
   "cell_type": "code",
   "execution_count": 224,
   "metadata": {},
   "outputs": [],
   "source": [
    "def extractMij(A, i, verbose = False):\n",
    "    \"\"\"Extract the minor M_ij of A, where we take j=0\"\"\"\n",
    "    n = len(A)\n",
    "    M0 = A[:, np.r_[1:n]]\n",
    "    Mi0 = None\n",
    "\n",
    "    if (i == 0):\n",
    "        Mi0 = M0[list(range(1, n)), :]        \n",
    "    else:\n",
    "        Mi0 = M0[list(range(0, i)) + list(range(i+1, n)), :]\n",
    "    return Mi0\n"
   ]
  },
  {
   "cell_type": "code",
   "execution_count": 249,
   "metadata": {},
   "outputs": [],
   "source": [
    "def determinant(A, verbose = False):\n",
    "    \"\"\"Calculate the determinant of the A matrix, according to the Lagrange algorithm.\n",
    "       Note that the matrix indices in classical litterature (including in the\n",
    "       reference document, ie Wikipedia) are usually ranging between 1 and n,\n",
    "       where as the indices in NumPy are ranging between 0 and n-1.\n",
    "       Hence, the variable is here called jm1 (standing for j minus -1).\n",
    "       We select the first column (jm1=0), and go through the rows.\"\"\"\n",
    "    n = len(A)\n",
    "    det = 0\n",
    "    \n",
    "    if (verbose == True):\n",
    "        print(\"A (size = %s): \\n\" % n, str(A))\n",
    "        print(\"Determinant of A: \", determinant(A))\n",
    "    \n",
    "    if (n == 2):\n",
    "        det = (A[0, 0] * A[1, 1] - A[1, 0] * A[0, 1])\n",
    "    else:\n",
    "        for im1 in range(0, n):\n",
    "            Mij = extractMij(A, im1)\n",
    "            aij = A[im1, 0]\n",
    "            det += (-1)**im1 * aij * determinant(Mij)\n",
    "            \n",
    "            if (verbose == True):\n",
    "                print(\"(-1)**(i+j), aij, det(Mij) for (i, j) = (%s, 1): \" % i, (-1)**i, aij, determinant(Mij))\n",
    "                print(\"Mij for (i, j) = (%s, 1): \\n\" % i, str(Mij))            \n",
    "    return det"
   ]
  },
  {
   "cell_type": "code",
   "execution_count": 253,
   "metadata": {},
   "outputs": [
    {
     "name": "stdout",
     "output_type": "stream",
     "text": [
      "A (size = 3): \n",
      " [[-2  2 -3]\n",
      " [-1  1  3]\n",
      " [ 2  0 -1]]\n",
      "Determinant of A:  18\n",
      "(-1)**(i+j), aij, det(Mij) for (i, j) = (2, 1):  1 -2 -1\n",
      "Mij for (i, j) = (2, 1): \n",
      " [[ 1  3]\n",
      " [ 0 -1]]\n",
      "(-1)**(i+j), aij, det(Mij) for (i, j) = (2, 1):  1 -1 -2\n",
      "Mij for (i, j) = (2, 1): \n",
      " [[ 2 -3]\n",
      " [ 0 -1]]\n",
      "(-1)**(i+j), aij, det(Mij) for (i, j) = (2, 1):  1 2 9\n",
      "Mij for (i, j) = (2, 1): \n",
      " [[ 2 -3]\n",
      " [ 1  3]]\n"
     ]
    },
    {
     "data": {
      "text/plain": [
       "18"
      ]
     },
     "execution_count": 253,
     "metadata": {},
     "output_type": "execute_result"
    }
   ],
   "source": [
    "A = np.matrix([[-2, 2, -3], [-1, 1, 3], [2, 0, -1]])\n",
    "determinant(A, verbose=True)"
   ]
  },
  {
   "cell_type": "code",
   "execution_count": 254,
   "metadata": {},
   "outputs": [
    {
     "data": {
      "text/plain": [
       "5469"
      ]
     },
     "execution_count": 254,
     "metadata": {},
     "output_type": "execute_result"
    }
   ],
   "source": [
    "A = np.random.randint(1, 10, size=(5, 5))\n",
    "determinant(A)"
   ]
  },
  {
   "cell_type": "code",
   "execution_count": null,
   "metadata": {},
   "outputs": [],
   "source": []
  }
 ],
 "metadata": {
  "kernelspec": {
   "display_name": "Python 3",
   "language": "python",
   "name": "python3"
  },
  "language_info": {
   "codemirror_mode": {
    "name": "ipython",
    "version": 3
   },
   "file_extension": ".py",
   "mimetype": "text/x-python",
   "name": "python",
   "nbconvert_exporter": "python",
   "pygments_lexer": "ipython3",
   "version": "3.4.5"
  }
 },
 "nbformat": 4,
 "nbformat_minor": 2
}
