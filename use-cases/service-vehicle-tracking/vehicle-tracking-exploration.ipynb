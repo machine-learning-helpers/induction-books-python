{
 "cells": [
  {
   "cell_type": "code",
   "execution_count": 2,
   "metadata": {},
   "outputs": [
    {
     "name": "stdout",
     "output_type": "stream",
     "text": [
      "total 7.1M\r\n",
      "drwxr-xr-x 4 root root  128 Mar  8 10:25 ./\r\n",
      "drwxr-xr-x 3 root root   96 Mar  8 10:22 ../\r\n",
      "-rw-r--r-- 1 root root 7.1M Mar  8 10:22 vehicle_trip_data.csv.bz2\r\n",
      "-rw-r--r-- 1 root root  318 Mar  8 10:22 vehicle_trip_data_valset.csv.bz2\r\n"
     ]
    }
   ],
   "source": [
    "!ls -laFh /data/use-cases/service-vehicle-tracking/2018-03-trips"
   ]
  },
  {
   "cell_type": "code",
   "execution_count": 3,
   "metadata": {},
   "outputs": [],
   "source": [
    "import pandas as pd\n",
    "import numpy as np"
   ]
  },
  {
   "cell_type": "code",
   "execution_count": 30,
   "metadata": {},
   "outputs": [],
   "source": [
    "df_trips = pd.read_csv ('/data/use-cases/service-vehicle-tracking/2018-03-trips/vehicle_trip_data.csv.bz2')\n",
    "df_cap = pd.read_csv ('/data/use-cases/service-vehicle-tracking/2018-03-trips/vehicle_trip_data_valset.csv.bz2')"
   ]
  },
  {
   "cell_type": "code",
   "execution_count": 32,
   "metadata": {},
   "outputs": [
    {
     "data": {
      "text/html": [
       "<div>\n",
       "<style scoped>\n",
       "    .dataframe tbody tr th:only-of-type {\n",
       "        vertical-align: middle;\n",
       "    }\n",
       "\n",
       "    .dataframe tbody tr th {\n",
       "        vertical-align: top;\n",
       "    }\n",
       "\n",
       "    .dataframe thead th {\n",
       "        text-align: right;\n",
       "    }\n",
       "</style>\n",
       "<table border=\"1\" class=\"dataframe\">\n",
       "  <thead>\n",
       "    <tr style=\"text-align: right;\">\n",
       "      <th></th>\n",
       "      <th>dev_id</th>\n",
       "      <th>tst</th>\n",
       "      <th>dst</th>\n",
       "      <th>spd</th>\n",
       "      <th>cns_tot</th>\n",
       "      <th>cns_rmg</th>\n",
       "    </tr>\n",
       "  </thead>\n",
       "  <tbody>\n",
       "    <tr>\n",
       "      <th>0</th>\n",
       "      <td>6741</td>\n",
       "      <td>539240401</td>\n",
       "      <td>549799</td>\n",
       "      <td>0</td>\n",
       "      <td>153274.5</td>\n",
       "      <td>99</td>\n",
       "    </tr>\n",
       "    <tr>\n",
       "      <th>1</th>\n",
       "      <td>6741</td>\n",
       "      <td>539243838</td>\n",
       "      <td>549799</td>\n",
       "      <td>0</td>\n",
       "      <td>153274.5</td>\n",
       "      <td>99</td>\n",
       "    </tr>\n",
       "    <tr>\n",
       "      <th>2</th>\n",
       "      <td>6741</td>\n",
       "      <td>539244001</td>\n",
       "      <td>549799</td>\n",
       "      <td>0</td>\n",
       "      <td>153274.5</td>\n",
       "      <td>99</td>\n",
       "    </tr>\n",
       "    <tr>\n",
       "      <th>3</th>\n",
       "      <td>6741</td>\n",
       "      <td>539247601</td>\n",
       "      <td>549799</td>\n",
       "      <td>0</td>\n",
       "      <td>153274.5</td>\n",
       "      <td>99</td>\n",
       "    </tr>\n",
       "    <tr>\n",
       "      <th>4</th>\n",
       "      <td>6741</td>\n",
       "      <td>539247823</td>\n",
       "      <td>549799</td>\n",
       "      <td>0</td>\n",
       "      <td>153274.5</td>\n",
       "      <td>99</td>\n",
       "    </tr>\n",
       "  </tbody>\n",
       "</table>\n",
       "</div>"
      ],
      "text/plain": [
       "   dev_id        tst     dst  spd   cns_tot  cns_rmg\n",
       "0    6741  539240401  549799    0  153274.5       99\n",
       "1    6741  539243838  549799    0  153274.5       99\n",
       "2    6741  539244001  549799    0  153274.5       99\n",
       "3    6741  539247601  549799    0  153274.5       99\n",
       "4    6741  539247823  549799    0  153274.5       99"
      ]
     },
     "execution_count": 32,
     "metadata": {},
     "output_type": "execute_result"
    }
   ],
   "source": [
    "df_trips.head()"
   ]
  },
  {
   "cell_type": "code",
   "execution_count": 33,
   "metadata": {},
   "outputs": [
    {
     "data": {
      "text/html": [
       "<div>\n",
       "<style scoped>\n",
       "    .dataframe tbody tr th:only-of-type {\n",
       "        vertical-align: middle;\n",
       "    }\n",
       "\n",
       "    .dataframe tbody tr th {\n",
       "        vertical-align: top;\n",
       "    }\n",
       "\n",
       "    .dataframe thead th {\n",
       "        text-align: right;\n",
       "    }\n",
       "</style>\n",
       "<table border=\"1\" class=\"dataframe\">\n",
       "  <thead>\n",
       "    <tr style=\"text-align: right;\">\n",
       "      <th></th>\n",
       "      <th>dev_id</th>\n",
       "      <th>tst</th>\n",
       "      <th>dst</th>\n",
       "      <th>spd</th>\n",
       "      <th>cns_tot</th>\n",
       "      <th>cns_rmg</th>\n",
       "    </tr>\n",
       "  </thead>\n",
       "  <tbody>\n",
       "    <tr>\n",
       "      <th>count</th>\n",
       "      <td>1.229017e+06</td>\n",
       "      <td>1.229017e+06</td>\n",
       "      <td>1.229017e+06</td>\n",
       "      <td>1.229017e+06</td>\n",
       "      <td>1.229017e+06</td>\n",
       "      <td>1.229017e+06</td>\n",
       "    </tr>\n",
       "    <tr>\n",
       "      <th>mean</th>\n",
       "      <td>4.134300e+04</td>\n",
       "      <td>5.404276e+08</td>\n",
       "      <td>3.183457e+05</td>\n",
       "      <td>2.835044e+01</td>\n",
       "      <td>6.447010e+04</td>\n",
       "      <td>6.796545e+01</td>\n",
       "    </tr>\n",
       "    <tr>\n",
       "      <th>std</th>\n",
       "      <td>1.981146e+04</td>\n",
       "      <td>6.987692e+05</td>\n",
       "      <td>1.335750e+05</td>\n",
       "      <td>3.739599e+01</td>\n",
       "      <td>3.703029e+04</td>\n",
       "      <td>2.102725e+01</td>\n",
       "    </tr>\n",
       "    <tr>\n",
       "      <th>min</th>\n",
       "      <td>6.740000e+03</td>\n",
       "      <td>5.392404e+08</td>\n",
       "      <td>6.218200e+04</td>\n",
       "      <td>0.000000e+00</td>\n",
       "      <td>5.000000e-01</td>\n",
       "      <td>0.000000e+00</td>\n",
       "    </tr>\n",
       "    <tr>\n",
       "      <th>25%</th>\n",
       "      <td>2.606300e+04</td>\n",
       "      <td>5.398444e+08</td>\n",
       "      <td>2.154470e+05</td>\n",
       "      <td>0.000000e+00</td>\n",
       "      <td>3.529800e+04</td>\n",
       "      <td>5.200000e+01</td>\n",
       "    </tr>\n",
       "    <tr>\n",
       "      <th>50%</th>\n",
       "      <td>4.749500e+04</td>\n",
       "      <td>5.404428e+08</td>\n",
       "      <td>2.959900e+05</td>\n",
       "      <td>0.000000e+00</td>\n",
       "      <td>6.174550e+04</td>\n",
       "      <td>7.100000e+01</td>\n",
       "    </tr>\n",
       "    <tr>\n",
       "      <th>75%</th>\n",
       "      <td>5.617000e+04</td>\n",
       "      <td>5.410318e+08</td>\n",
       "      <td>4.471890e+05</td>\n",
       "      <td>8.000000e+01</td>\n",
       "      <td>8.053600e+04</td>\n",
       "      <td>8.500000e+01</td>\n",
       "    </tr>\n",
       "    <tr>\n",
       "      <th>max</th>\n",
       "      <td>6.471400e+04</td>\n",
       "      <td>5.416596e+08</td>\n",
       "      <td>6.350680e+05</td>\n",
       "      <td>1.810000e+02</td>\n",
       "      <td>1.667190e+05</td>\n",
       "      <td>2.550000e+02</td>\n",
       "    </tr>\n",
       "  </tbody>\n",
       "</table>\n",
       "</div>"
      ],
      "text/plain": [
       "             dev_id           tst           dst           spd       cns_tot  \\\n",
       "count  1.229017e+06  1.229017e+06  1.229017e+06  1.229017e+06  1.229017e+06   \n",
       "mean   4.134300e+04  5.404276e+08  3.183457e+05  2.835044e+01  6.447010e+04   \n",
       "std    1.981146e+04  6.987692e+05  1.335750e+05  3.739599e+01  3.703029e+04   \n",
       "min    6.740000e+03  5.392404e+08  6.218200e+04  0.000000e+00  5.000000e-01   \n",
       "25%    2.606300e+04  5.398444e+08  2.154470e+05  0.000000e+00  3.529800e+04   \n",
       "50%    4.749500e+04  5.404428e+08  2.959900e+05  0.000000e+00  6.174550e+04   \n",
       "75%    5.617000e+04  5.410318e+08  4.471890e+05  8.000000e+01  8.053600e+04   \n",
       "max    6.471400e+04  5.416596e+08  6.350680e+05  1.810000e+02  1.667190e+05   \n",
       "\n",
       "            cns_rmg  \n",
       "count  1.229017e+06  \n",
       "mean   6.796545e+01  \n",
       "std    2.102725e+01  \n",
       "min    0.000000e+00  \n",
       "25%    5.200000e+01  \n",
       "50%    7.100000e+01  \n",
       "75%    8.500000e+01  \n",
       "max    2.550000e+02  "
      ]
     },
     "execution_count": 33,
     "metadata": {},
     "output_type": "execute_result"
    }
   ],
   "source": [
    "df_trips.describe()"
   ]
  },
  {
   "cell_type": "code",
   "execution_count": 26,
   "metadata": {},
   "outputs": [
    {
     "data": {
      "text/plain": [
       "100"
      ]
     },
     "execution_count": 26,
     "metadata": {},
     "output_type": "execute_result"
    }
   ],
   "source": [
    "device_list = df_trips['dev_id'].unique()\n",
    "len(device_list)"
   ]
  },
  {
   "cell_type": "code",
   "execution_count": 27,
   "metadata": {},
   "outputs": [
    {
     "data": {
      "text/plain": [
       "array([ 99,  98,  97,  96,  95,  94,  93,  92,  91,  90,  89,  88,  87,\n",
       "        86,  85,  83,  84,  82,  81,  80,  79,  78,  77,  76,  74,  75,\n",
       "        73,  72,  71,  70,  69,  68,  67,  66,  65,  64,  63,  62,  61,\n",
       "        60,  59,  58,  57,  56,  55,  54,  53,  52,  51,  50,  48,  49,\n",
       "        47,  46,  45,  44,  43,  42,  41,  40,  39,  38,  37,  36,  35,\n",
       "        34,  32,  33,  31,  30,  29,  28,  27,  26, 100,  25,  24,  23,\n",
       "        22,  21,  20,  19,  18,  17,  16,  15,  14,  13,  12,  11,  10,\n",
       "         9,   8,   7,   6,   5,   4, 255,   0,   1,   3,   2])"
      ]
     },
     "execution_count": 27,
     "metadata": {},
     "output_type": "execute_result"
    }
   ],
   "source": [
    "fuel_cap_list = df_trips['cns_rmg'].unique()\n",
    "fuel_cap_list"
   ]
  },
  {
   "cell_type": "code",
   "execution_count": 28,
   "metadata": {},
   "outputs": [
    {
     "data": {
      "text/plain": [
       "array([  0,   5,  12,  29,  57,  46,  69,  16,  37,  43,  34,  28,  14,\n",
       "         3,  25,  31,  15,  13,  23,   1,  17,  18,  24,  33,  32,  19,\n",
       "        39,  71,  45,  58,  87,  84,  85,  76,  82,  80,  79,  70,  75,\n",
       "        11,  65,  83,  81,  78,  77,  56,  59,   7,   6,   8,  41,  86,\n",
       "        88,  89,  51,  90,  62,  26,  10,  67,  27,  66,  49,  35,   2,\n",
       "        64,  30,  55,  22,  52,  72,  48,  61,  63,  53,   4,  50,  21,\n",
       "         9,  20,  73,  68,  40,  74,  36,  54,  60,  91,  44,  38,  92,\n",
       "        42,  47,  93,  95,  97,  96,  98,  99,  94, 101, 107, 100, 102,\n",
       "       103, 105, 104, 111, 108, 106, 109, 158, 113, 119, 115, 180, 181])"
      ]
     },
     "execution_count": 28,
     "metadata": {},
     "output_type": "execute_result"
    }
   ],
   "source": [
    "speed_list = df_trips['spd'].unique()\n",
    "speed_list"
   ]
  },
  {
   "cell_type": "code",
   "execution_count": 34,
   "metadata": {},
   "outputs": [
    {
     "data": {
      "text/html": [
       "<div>\n",
       "<style scoped>\n",
       "    .dataframe tbody tr th:only-of-type {\n",
       "        vertical-align: middle;\n",
       "    }\n",
       "\n",
       "    .dataframe tbody tr th {\n",
       "        vertical-align: top;\n",
       "    }\n",
       "\n",
       "    .dataframe thead th {\n",
       "        text-align: right;\n",
       "    }\n",
       "</style>\n",
       "<table border=\"1\" class=\"dataframe\">\n",
       "  <thead>\n",
       "    <tr style=\"text-align: right;\">\n",
       "      <th></th>\n",
       "      <th>dev_id</th>\n",
       "      <th>cap</th>\n",
       "    </tr>\n",
       "  </thead>\n",
       "  <tbody>\n",
       "    <tr>\n",
       "      <th>0</th>\n",
       "      <td>6740</td>\n",
       "      <td>1090</td>\n",
       "    </tr>\n",
       "    <tr>\n",
       "      <th>1</th>\n",
       "      <td>7733</td>\n",
       "      <td>1090</td>\n",
       "    </tr>\n",
       "    <tr>\n",
       "      <th>2</th>\n",
       "      <td>8789</td>\n",
       "      <td>1200</td>\n",
       "    </tr>\n",
       "    <tr>\n",
       "      <th>3</th>\n",
       "      <td>8793</td>\n",
       "      <td>1000</td>\n",
       "    </tr>\n",
       "    <tr>\n",
       "      <th>4</th>\n",
       "      <td>8794</td>\n",
       "      <td>1000</td>\n",
       "    </tr>\n",
       "  </tbody>\n",
       "</table>\n",
       "</div>"
      ],
      "text/plain": [
       "   dev_id   cap\n",
       "0    6740  1090\n",
       "1    7733  1090\n",
       "2    8789  1200\n",
       "3    8793  1000\n",
       "4    8794  1000"
      ]
     },
     "execution_count": 34,
     "metadata": {},
     "output_type": "execute_result"
    }
   ],
   "source": [
    "df_cap.head()"
   ]
  },
  {
   "cell_type": "code",
   "execution_count": 35,
   "metadata": {},
   "outputs": [
    {
     "data": {
      "text/html": [
       "<div>\n",
       "<style scoped>\n",
       "    .dataframe tbody tr th:only-of-type {\n",
       "        vertical-align: middle;\n",
       "    }\n",
       "\n",
       "    .dataframe tbody tr th {\n",
       "        vertical-align: top;\n",
       "    }\n",
       "\n",
       "    .dataframe thead th {\n",
       "        text-align: right;\n",
       "    }\n",
       "</style>\n",
       "<table border=\"1\" class=\"dataframe\">\n",
       "  <thead>\n",
       "    <tr style=\"text-align: right;\">\n",
       "      <th></th>\n",
       "      <th>dev_id</th>\n",
       "      <th>cap</th>\n",
       "    </tr>\n",
       "  </thead>\n",
       "  <tbody>\n",
       "    <tr>\n",
       "      <th>count</th>\n",
       "      <td>80.000000</td>\n",
       "      <td>80.000000</td>\n",
       "    </tr>\n",
       "    <tr>\n",
       "      <th>mean</th>\n",
       "      <td>40204.887500</td>\n",
       "      <td>1088.312500</td>\n",
       "    </tr>\n",
       "    <tr>\n",
       "      <th>std</th>\n",
       "      <td>19366.399472</td>\n",
       "      <td>268.085033</td>\n",
       "    </tr>\n",
       "    <tr>\n",
       "      <th>min</th>\n",
       "      <td>6740.000000</td>\n",
       "      <td>580.000000</td>\n",
       "    </tr>\n",
       "    <tr>\n",
       "      <th>25%</th>\n",
       "      <td>26065.250000</td>\n",
       "      <td>980.000000</td>\n",
       "    </tr>\n",
       "    <tr>\n",
       "      <th>50%</th>\n",
       "      <td>47451.000000</td>\n",
       "      <td>1000.000000</td>\n",
       "    </tr>\n",
       "    <tr>\n",
       "      <th>75%</th>\n",
       "      <td>56147.500000</td>\n",
       "      <td>1400.000000</td>\n",
       "    </tr>\n",
       "    <tr>\n",
       "      <th>max</th>\n",
       "      <td>62459.000000</td>\n",
       "      <td>1400.000000</td>\n",
       "    </tr>\n",
       "  </tbody>\n",
       "</table>\n",
       "</div>"
      ],
      "text/plain": [
       "             dev_id          cap\n",
       "count     80.000000    80.000000\n",
       "mean   40204.887500  1088.312500\n",
       "std    19366.399472   268.085033\n",
       "min     6740.000000   580.000000\n",
       "25%    26065.250000   980.000000\n",
       "50%    47451.000000  1000.000000\n",
       "75%    56147.500000  1400.000000\n",
       "max    62459.000000  1400.000000"
      ]
     },
     "execution_count": 35,
     "metadata": {},
     "output_type": "execute_result"
    }
   ],
   "source": [
    "df_cap.describe()"
   ]
  },
  {
   "cell_type": "code",
   "execution_count": 36,
   "metadata": {},
   "outputs": [
    {
     "data": {
      "text/plain": [
       "80"
      ]
     },
     "execution_count": 36,
     "metadata": {},
     "output_type": "execute_result"
    }
   ],
   "source": [
    "device_cap_list = df_cap['dev_id'].unique()\n",
    "len(device_cap_list)"
   ]
  },
  {
   "cell_type": "code",
   "execution_count": 50,
   "metadata": {},
   "outputs": [
    {
     "data": {
      "text/plain": [
       "array([1090, 1200, 1000,  820,  990,  825, 1400,  980,  580,  700,  800])"
      ]
     },
     "execution_count": 50,
     "metadata": {},
     "output_type": "execute_result"
    }
   ],
   "source": [
    "cap_list = df_cap['cap'].unique()\n",
    "cap_list"
   ]
  },
  {
   "cell_type": "code",
   "execution_count": 58,
   "metadata": {},
   "outputs": [
    {
     "data": {
      "text/html": [
       "<div>\n",
       "<style scoped>\n",
       "    .dataframe tbody tr th:only-of-type {\n",
       "        vertical-align: middle;\n",
       "    }\n",
       "\n",
       "    .dataframe tbody tr th {\n",
       "        vertical-align: top;\n",
       "    }\n",
       "\n",
       "    .dataframe thead th {\n",
       "        text-align: right;\n",
       "    }\n",
       "</style>\n",
       "<table border=\"1\" class=\"dataframe\">\n",
       "  <thead>\n",
       "    <tr style=\"text-align: right;\">\n",
       "      <th></th>\n",
       "      <th>dev_id</th>\n",
       "      <th>tst</th>\n",
       "      <th>dst</th>\n",
       "      <th>spd</th>\n",
       "      <th>cns_tot</th>\n",
       "      <th>cns_rmg</th>\n",
       "      <th>cap</th>\n",
       "    </tr>\n",
       "  </thead>\n",
       "  <tbody>\n",
       "    <tr>\n",
       "      <th>0</th>\n",
       "      <td>6741</td>\n",
       "      <td>539240401</td>\n",
       "      <td>549799</td>\n",
       "      <td>0</td>\n",
       "      <td>153274.5</td>\n",
       "      <td>99</td>\n",
       "      <td>1090.0</td>\n",
       "    </tr>\n",
       "    <tr>\n",
       "      <th>1</th>\n",
       "      <td>6741</td>\n",
       "      <td>539243838</td>\n",
       "      <td>549799</td>\n",
       "      <td>0</td>\n",
       "      <td>153274.5</td>\n",
       "      <td>99</td>\n",
       "      <td>1090.0</td>\n",
       "    </tr>\n",
       "    <tr>\n",
       "      <th>2</th>\n",
       "      <td>6741</td>\n",
       "      <td>539244001</td>\n",
       "      <td>549799</td>\n",
       "      <td>0</td>\n",
       "      <td>153274.5</td>\n",
       "      <td>99</td>\n",
       "      <td>1090.0</td>\n",
       "    </tr>\n",
       "    <tr>\n",
       "      <th>3</th>\n",
       "      <td>6741</td>\n",
       "      <td>539247601</td>\n",
       "      <td>549799</td>\n",
       "      <td>0</td>\n",
       "      <td>153274.5</td>\n",
       "      <td>99</td>\n",
       "      <td>1090.0</td>\n",
       "    </tr>\n",
       "    <tr>\n",
       "      <th>4</th>\n",
       "      <td>6741</td>\n",
       "      <td>539247823</td>\n",
       "      <td>549799</td>\n",
       "      <td>0</td>\n",
       "      <td>153274.5</td>\n",
       "      <td>99</td>\n",
       "      <td>1090.0</td>\n",
       "    </tr>\n",
       "  </tbody>\n",
       "</table>\n",
       "</div>"
      ],
      "text/plain": [
       "   dev_id        tst     dst  spd   cns_tot  cns_rmg     cap\n",
       "0    6741  539240401  549799    0  153274.5       99  1090.0\n",
       "1    6741  539243838  549799    0  153274.5       99  1090.0\n",
       "2    6741  539244001  549799    0  153274.5       99  1090.0\n",
       "3    6741  539247601  549799    0  153274.5       99  1090.0\n",
       "4    6741  539247823  549799    0  153274.5       99  1090.0"
      ]
     },
     "execution_count": 58,
     "metadata": {},
     "output_type": "execute_result"
    }
   ],
   "source": [
    "df_full = df_trips.merge(df_cap, 'outer')\n",
    "df_full.head()"
   ]
  },
  {
   "cell_type": "code",
   "execution_count": 60,
   "metadata": {},
   "outputs": [
    {
     "data": {
      "text/plain": [
       "array([1090., 1200., 1000., 1400.,  820.,   nan,  980.,  990.,  700.,\n",
       "        580.,  825.,  800.])"
      ]
     },
     "execution_count": 60,
     "metadata": {},
     "output_type": "execute_result"
    }
   ],
   "source": [
    "cap_full_list = df_full['cap'].unique()\n",
    "cap_full_list"
   ]
  },
  {
   "cell_type": "code",
   "execution_count": 57,
   "metadata": {},
   "outputs": [
    {
     "data": {
      "text/plain": [
       "array([21951, 43371, 43373, 56167, 56175, 62461, 62463, 62981, 64711,\n",
       "       43372, 43374, 43376, 50296, 56170, 62454, 64706, 64708, 64710,\n",
       "       64712, 64714])"
      ]
     },
     "execution_count": 57,
     "metadata": {},
     "output_type": "execute_result"
    }
   ],
   "source": [
    "# List of vehicles for which no capacity is known\n",
    "df_full[df_full['cap'].isnull()]['dev_id'].unique()"
   ]
  },
  {
   "cell_type": "code",
   "execution_count": null,
   "metadata": {},
   "outputs": [],
   "source": []
  }
 ],
 "metadata": {
  "kernelspec": {
   "display_name": "Python 3",
   "language": "python",
   "name": "python3"
  },
  "language_info": {
   "codemirror_mode": {
    "name": "ipython",
    "version": 3
   },
   "file_extension": ".py",
   "mimetype": "text/x-python",
   "name": "python",
   "nbconvert_exporter": "python",
   "pygments_lexer": "ipython3",
   "version": "3.4.5"
  }
 },
 "nbformat": 4,
 "nbformat_minor": 2
}
