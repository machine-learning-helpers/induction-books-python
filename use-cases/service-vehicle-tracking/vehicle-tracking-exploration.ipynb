{
 "cells": [
  {
   "cell_type": "code",
   "execution_count": 318,
   "metadata": {},
   "outputs": [
    {
     "data": {
      "text/markdown": [
       "# Exploration"
      ],
      "text/plain": [
       "<IPython.core.display.Markdown object>"
      ]
     },
     "metadata": {},
     "output_type": "display_data"
    }
   ],
   "source": [
    "%%markdown\n",
    "# Exploration"
   ]
  },
  {
   "cell_type": "code",
   "execution_count": 3,
   "metadata": {},
   "outputs": [
    {
     "name": "stdout",
     "output_type": "stream",
     "text": [
      "total 7.2M\r\n",
      "drwxr-xr-x 4 root root  128 Mar  8 10:42 ./\r\n",
      "drwxr-xr-x 3 root root   96 Mar  8 10:22 ../\r\n",
      "-rw-r--r-- 1 root root 7.1M Mar  8 10:40 vehicle_trip_data.csv.bz2\r\n",
      "-rw-r--r-- 1 root root  303 Mar  8 10:41 vehicle_trip_data_valset.csv.bz2\r\n"
     ]
    }
   ],
   "source": [
    "!ls -laFh /data/use-cases/service-vehicle-tracking/2018-03-trips"
   ]
  },
  {
   "cell_type": "code",
   "execution_count": 44,
   "metadata": {},
   "outputs": [],
   "source": [
    "import pandas as pd\n",
    "import numpy as np\n",
    "from scipy import signal\n",
    "import matplotlib.pyplot as plt"
   ]
  },
  {
   "cell_type": "code",
   "execution_count": 46,
   "metadata": {},
   "outputs": [],
   "source": [
    "df_trips = pd.read_csv ('/data/use-cases/service-vehicle-tracking/2018-03-trips/vehicle_trip_data.csv.bz2')\n",
    "df_cap = pd.read_csv ('/data/use-cases/service-vehicle-tracking/2018-03-trips/vehicle_trip_data_valset.csv.bz2')"
   ]
  },
  {
   "cell_type": "code",
   "execution_count": 47,
   "metadata": {},
   "outputs": [
    {
     "data": {
      "text/html": [
       "<div>\n",
       "<style scoped>\n",
       "    .dataframe tbody tr th:only-of-type {\n",
       "        vertical-align: middle;\n",
       "    }\n",
       "\n",
       "    .dataframe tbody tr th {\n",
       "        vertical-align: top;\n",
       "    }\n",
       "\n",
       "    .dataframe thead th {\n",
       "        text-align: right;\n",
       "    }\n",
       "</style>\n",
       "<table border=\"1\" class=\"dataframe\">\n",
       "  <thead>\n",
       "    <tr style=\"text-align: right;\">\n",
       "      <th></th>\n",
       "      <th>dev_id</th>\n",
       "      <th>tst</th>\n",
       "      <th>dst</th>\n",
       "      <th>spd</th>\n",
       "      <th>cns_tot</th>\n",
       "      <th>cns_rmg</th>\n",
       "      <th>tst_abs</th>\n",
       "    </tr>\n",
       "  </thead>\n",
       "  <tbody>\n",
       "    <tr>\n",
       "      <th>0</th>\n",
       "      <td>6741</td>\n",
       "      <td>539240401</td>\n",
       "      <td>549799</td>\n",
       "      <td>0</td>\n",
       "      <td>153274.5</td>\n",
       "      <td>99</td>\n",
       "      <td>2017-02-01 05:00:01</td>\n",
       "    </tr>\n",
       "    <tr>\n",
       "      <th>1</th>\n",
       "      <td>6741</td>\n",
       "      <td>539243838</td>\n",
       "      <td>549799</td>\n",
       "      <td>0</td>\n",
       "      <td>153274.5</td>\n",
       "      <td>99</td>\n",
       "      <td>2017-02-01 05:57:18</td>\n",
       "    </tr>\n",
       "    <tr>\n",
       "      <th>2</th>\n",
       "      <td>6741</td>\n",
       "      <td>539244001</td>\n",
       "      <td>549799</td>\n",
       "      <td>0</td>\n",
       "      <td>153274.5</td>\n",
       "      <td>99</td>\n",
       "      <td>2017-02-01 06:00:01</td>\n",
       "    </tr>\n",
       "    <tr>\n",
       "      <th>3</th>\n",
       "      <td>6741</td>\n",
       "      <td>539247601</td>\n",
       "      <td>549799</td>\n",
       "      <td>0</td>\n",
       "      <td>153274.5</td>\n",
       "      <td>99</td>\n",
       "      <td>2017-02-01 07:00:01</td>\n",
       "    </tr>\n",
       "    <tr>\n",
       "      <th>4</th>\n",
       "      <td>6741</td>\n",
       "      <td>539247823</td>\n",
       "      <td>549799</td>\n",
       "      <td>0</td>\n",
       "      <td>153274.5</td>\n",
       "      <td>99</td>\n",
       "      <td>2017-02-01 07:03:43</td>\n",
       "    </tr>\n",
       "  </tbody>\n",
       "</table>\n",
       "</div>"
      ],
      "text/plain": [
       "   dev_id        tst     dst  spd   cns_tot  cns_rmg             tst_abs\n",
       "0    6741  539240401  549799    0  153274.5       99 2017-02-01 05:00:01\n",
       "1    6741  539243838  549799    0  153274.5       99 2017-02-01 05:57:18\n",
       "2    6741  539244001  549799    0  153274.5       99 2017-02-01 06:00:01\n",
       "3    6741  539247601  549799    0  153274.5       99 2017-02-01 07:00:01\n",
       "4    6741  539247823  549799    0  153274.5       99 2017-02-01 07:03:43"
      ]
     },
     "execution_count": 47,
     "metadata": {},
     "output_type": "execute_result"
    }
   ],
   "source": [
    "# The epochs are counted from the 01-JAN-2000,\n",
    "# whereas the standard Unix dates are counted from the 01-JAN-1970.\n",
    "# There is a difference of 10,957 days\n",
    "df_trips['tst_abs'] = pd.to_datetime(df_trips['tst'], unit='s') + pd.DateOffset(days = 10957)\n",
    "df_trips.head()"
   ]
  },
  {
   "cell_type": "code",
   "execution_count": 48,
   "metadata": {},
   "outputs": [
    {
     "data": {
      "text/html": [
       "<div>\n",
       "<style scoped>\n",
       "    .dataframe tbody tr th:only-of-type {\n",
       "        vertical-align: middle;\n",
       "    }\n",
       "\n",
       "    .dataframe tbody tr th {\n",
       "        vertical-align: top;\n",
       "    }\n",
       "\n",
       "    .dataframe thead th {\n",
       "        text-align: right;\n",
       "    }\n",
       "</style>\n",
       "<table border=\"1\" class=\"dataframe\">\n",
       "  <thead>\n",
       "    <tr style=\"text-align: right;\">\n",
       "      <th></th>\n",
       "      <th>dev_id</th>\n",
       "      <th>tst</th>\n",
       "      <th>dst</th>\n",
       "      <th>spd</th>\n",
       "      <th>cns_tot</th>\n",
       "      <th>cns_rmg</th>\n",
       "      <th>tst_abs</th>\n",
       "    </tr>\n",
       "  </thead>\n",
       "  <tbody>\n",
       "    <tr>\n",
       "      <th>0</th>\n",
       "      <td>6741</td>\n",
       "      <td>539240401</td>\n",
       "      <td>549799</td>\n",
       "      <td>0</td>\n",
       "      <td>153274.5</td>\n",
       "      <td>99</td>\n",
       "      <td>2017-02-01 05:00:01</td>\n",
       "    </tr>\n",
       "    <tr>\n",
       "      <th>1</th>\n",
       "      <td>6741</td>\n",
       "      <td>539243838</td>\n",
       "      <td>549799</td>\n",
       "      <td>0</td>\n",
       "      <td>153274.5</td>\n",
       "      <td>99</td>\n",
       "      <td>2017-02-01 05:57:18</td>\n",
       "    </tr>\n",
       "    <tr>\n",
       "      <th>2</th>\n",
       "      <td>6741</td>\n",
       "      <td>539244001</td>\n",
       "      <td>549799</td>\n",
       "      <td>0</td>\n",
       "      <td>153274.5</td>\n",
       "      <td>99</td>\n",
       "      <td>2017-02-01 06:00:01</td>\n",
       "    </tr>\n",
       "    <tr>\n",
       "      <th>3</th>\n",
       "      <td>6741</td>\n",
       "      <td>539247601</td>\n",
       "      <td>549799</td>\n",
       "      <td>0</td>\n",
       "      <td>153274.5</td>\n",
       "      <td>99</td>\n",
       "      <td>2017-02-01 07:00:01</td>\n",
       "    </tr>\n",
       "    <tr>\n",
       "      <th>4</th>\n",
       "      <td>6741</td>\n",
       "      <td>539247823</td>\n",
       "      <td>549799</td>\n",
       "      <td>0</td>\n",
       "      <td>153274.5</td>\n",
       "      <td>99</td>\n",
       "      <td>2017-02-01 07:03:43</td>\n",
       "    </tr>\n",
       "  </tbody>\n",
       "</table>\n",
       "</div>"
      ],
      "text/plain": [
       "   dev_id        tst     dst  spd   cns_tot  cns_rmg             tst_abs\n",
       "0    6741  539240401  549799    0  153274.5       99 2017-02-01 05:00:01\n",
       "1    6741  539243838  549799    0  153274.5       99 2017-02-01 05:57:18\n",
       "2    6741  539244001  549799    0  153274.5       99 2017-02-01 06:00:01\n",
       "3    6741  539247601  549799    0  153274.5       99 2017-02-01 07:00:01\n",
       "4    6741  539247823  549799    0  153274.5       99 2017-02-01 07:03:43"
      ]
     },
     "execution_count": 48,
     "metadata": {},
     "output_type": "execute_result"
    }
   ],
   "source": [
    "df_trips.head()"
   ]
  },
  {
   "cell_type": "code",
   "execution_count": 49,
   "metadata": {},
   "outputs": [
    {
     "data": {
      "text/html": [
       "<div>\n",
       "<style scoped>\n",
       "    .dataframe tbody tr th:only-of-type {\n",
       "        vertical-align: middle;\n",
       "    }\n",
       "\n",
       "    .dataframe tbody tr th {\n",
       "        vertical-align: top;\n",
       "    }\n",
       "\n",
       "    .dataframe thead th {\n",
       "        text-align: right;\n",
       "    }\n",
       "</style>\n",
       "<table border=\"1\" class=\"dataframe\">\n",
       "  <thead>\n",
       "    <tr style=\"text-align: right;\">\n",
       "      <th></th>\n",
       "      <th>dev_id</th>\n",
       "      <th>tst</th>\n",
       "      <th>dst</th>\n",
       "      <th>spd</th>\n",
       "      <th>cns_tot</th>\n",
       "      <th>cns_rmg</th>\n",
       "    </tr>\n",
       "  </thead>\n",
       "  <tbody>\n",
       "    <tr>\n",
       "      <th>count</th>\n",
       "      <td>1.229017e+06</td>\n",
       "      <td>1.229017e+06</td>\n",
       "      <td>1.229017e+06</td>\n",
       "      <td>1.229017e+06</td>\n",
       "      <td>1.229017e+06</td>\n",
       "      <td>1.229017e+06</td>\n",
       "    </tr>\n",
       "    <tr>\n",
       "      <th>mean</th>\n",
       "      <td>4.134300e+04</td>\n",
       "      <td>5.404276e+08</td>\n",
       "      <td>3.183457e+05</td>\n",
       "      <td>2.835044e+01</td>\n",
       "      <td>6.447010e+04</td>\n",
       "      <td>6.796545e+01</td>\n",
       "    </tr>\n",
       "    <tr>\n",
       "      <th>std</th>\n",
       "      <td>1.981146e+04</td>\n",
       "      <td>6.987692e+05</td>\n",
       "      <td>1.335750e+05</td>\n",
       "      <td>3.739599e+01</td>\n",
       "      <td>3.703029e+04</td>\n",
       "      <td>2.102725e+01</td>\n",
       "    </tr>\n",
       "    <tr>\n",
       "      <th>min</th>\n",
       "      <td>6.740000e+03</td>\n",
       "      <td>5.392404e+08</td>\n",
       "      <td>6.218200e+04</td>\n",
       "      <td>0.000000e+00</td>\n",
       "      <td>5.000000e-01</td>\n",
       "      <td>0.000000e+00</td>\n",
       "    </tr>\n",
       "    <tr>\n",
       "      <th>25%</th>\n",
       "      <td>2.606300e+04</td>\n",
       "      <td>5.398444e+08</td>\n",
       "      <td>2.154470e+05</td>\n",
       "      <td>0.000000e+00</td>\n",
       "      <td>3.529800e+04</td>\n",
       "      <td>5.200000e+01</td>\n",
       "    </tr>\n",
       "    <tr>\n",
       "      <th>50%</th>\n",
       "      <td>4.749500e+04</td>\n",
       "      <td>5.404428e+08</td>\n",
       "      <td>2.959900e+05</td>\n",
       "      <td>0.000000e+00</td>\n",
       "      <td>6.174550e+04</td>\n",
       "      <td>7.100000e+01</td>\n",
       "    </tr>\n",
       "    <tr>\n",
       "      <th>75%</th>\n",
       "      <td>5.617000e+04</td>\n",
       "      <td>5.410318e+08</td>\n",
       "      <td>4.471890e+05</td>\n",
       "      <td>8.000000e+01</td>\n",
       "      <td>8.053600e+04</td>\n",
       "      <td>8.500000e+01</td>\n",
       "    </tr>\n",
       "    <tr>\n",
       "      <th>max</th>\n",
       "      <td>6.471400e+04</td>\n",
       "      <td>5.416596e+08</td>\n",
       "      <td>6.350680e+05</td>\n",
       "      <td>1.810000e+02</td>\n",
       "      <td>1.667190e+05</td>\n",
       "      <td>2.550000e+02</td>\n",
       "    </tr>\n",
       "  </tbody>\n",
       "</table>\n",
       "</div>"
      ],
      "text/plain": [
       "             dev_id           tst           dst           spd       cns_tot  \\\n",
       "count  1.229017e+06  1.229017e+06  1.229017e+06  1.229017e+06  1.229017e+06   \n",
       "mean   4.134300e+04  5.404276e+08  3.183457e+05  2.835044e+01  6.447010e+04   \n",
       "std    1.981146e+04  6.987692e+05  1.335750e+05  3.739599e+01  3.703029e+04   \n",
       "min    6.740000e+03  5.392404e+08  6.218200e+04  0.000000e+00  5.000000e-01   \n",
       "25%    2.606300e+04  5.398444e+08  2.154470e+05  0.000000e+00  3.529800e+04   \n",
       "50%    4.749500e+04  5.404428e+08  2.959900e+05  0.000000e+00  6.174550e+04   \n",
       "75%    5.617000e+04  5.410318e+08  4.471890e+05  8.000000e+01  8.053600e+04   \n",
       "max    6.471400e+04  5.416596e+08  6.350680e+05  1.810000e+02  1.667190e+05   \n",
       "\n",
       "            cns_rmg  \n",
       "count  1.229017e+06  \n",
       "mean   6.796545e+01  \n",
       "std    2.102725e+01  \n",
       "min    0.000000e+00  \n",
       "25%    5.200000e+01  \n",
       "50%    7.100000e+01  \n",
       "75%    8.500000e+01  \n",
       "max    2.550000e+02  "
      ]
     },
     "execution_count": 49,
     "metadata": {},
     "output_type": "execute_result"
    }
   ],
   "source": [
    "df_trips.describe()"
   ]
  },
  {
   "cell_type": "code",
   "execution_count": 50,
   "metadata": {},
   "outputs": [
    {
     "data": {
      "text/plain": [
       "100"
      ]
     },
     "execution_count": 50,
     "metadata": {},
     "output_type": "execute_result"
    }
   ],
   "source": [
    "device_list = df_trips['dev_id'].unique()\n",
    "len(device_list)"
   ]
  },
  {
   "cell_type": "code",
   "execution_count": 51,
   "metadata": {},
   "outputs": [
    {
     "data": {
      "text/plain": [
       "array([ 99,  98,  97,  96,  95,  94,  93,  92,  91,  90,  89,  88,  87,\n",
       "        86,  85,  83,  84,  82,  81,  80,  79,  78,  77,  76,  74,  75,\n",
       "        73,  72,  71,  70,  69,  68,  67,  66,  65,  64,  63,  62,  61,\n",
       "        60,  59,  58,  57,  56,  55,  54,  53,  52,  51,  50,  48,  49,\n",
       "        47,  46,  45,  44,  43,  42,  41,  40,  39,  38,  37,  36,  35,\n",
       "        34,  32,  33,  31,  30,  29,  28,  27,  26, 100,  25,  24,  23,\n",
       "        22,  21,  20,  19,  18,  17,  16,  15,  14,  13,  12,  11,  10,\n",
       "         9,   8,   7,   6,   5,   4, 255,   0,   1,   3,   2])"
      ]
     },
     "execution_count": 51,
     "metadata": {},
     "output_type": "execute_result"
    }
   ],
   "source": [
    "fuel_cap_list = df_trips['cns_rmg'].unique()\n",
    "fuel_cap_list"
   ]
  },
  {
   "cell_type": "code",
   "execution_count": 52,
   "metadata": {},
   "outputs": [
    {
     "data": {
      "text/plain": [
       "array([  0,   5,  12,  29,  57,  46,  69,  16,  37,  43,  34,  28,  14,\n",
       "         3,  25,  31,  15,  13,  23,   1,  17,  18,  24,  33,  32,  19,\n",
       "        39,  71,  45,  58,  87,  84,  85,  76,  82,  80,  79,  70,  75,\n",
       "        11,  65,  83,  81,  78,  77,  56,  59,   7,   6,   8,  41,  86,\n",
       "        88,  89,  51,  90,  62,  26,  10,  67,  27,  66,  49,  35,   2,\n",
       "        64,  30,  55,  22,  52,  72,  48,  61,  63,  53,   4,  50,  21,\n",
       "         9,  20,  73,  68,  40,  74,  36,  54,  60,  91,  44,  38,  92,\n",
       "        42,  47,  93,  95,  97,  96,  98,  99,  94, 101, 107, 100, 102,\n",
       "       103, 105, 104, 111, 108, 106, 109, 158, 113, 119, 115, 180, 181])"
      ]
     },
     "execution_count": 52,
     "metadata": {},
     "output_type": "execute_result"
    }
   ],
   "source": [
    "speed_list = df_trips['spd'].unique()\n",
    "speed_list"
   ]
  },
  {
   "cell_type": "code",
   "execution_count": 53,
   "metadata": {},
   "outputs": [
    {
     "data": {
      "text/html": [
       "<div>\n",
       "<style scoped>\n",
       "    .dataframe tbody tr th:only-of-type {\n",
       "        vertical-align: middle;\n",
       "    }\n",
       "\n",
       "    .dataframe tbody tr th {\n",
       "        vertical-align: top;\n",
       "    }\n",
       "\n",
       "    .dataframe thead th {\n",
       "        text-align: right;\n",
       "    }\n",
       "</style>\n",
       "<table border=\"1\" class=\"dataframe\">\n",
       "  <thead>\n",
       "    <tr style=\"text-align: right;\">\n",
       "      <th></th>\n",
       "      <th>dev_id</th>\n",
       "      <th>cap</th>\n",
       "    </tr>\n",
       "  </thead>\n",
       "  <tbody>\n",
       "    <tr>\n",
       "      <th>0</th>\n",
       "      <td>6740</td>\n",
       "      <td>1090</td>\n",
       "    </tr>\n",
       "    <tr>\n",
       "      <th>1</th>\n",
       "      <td>7733</td>\n",
       "      <td>1090</td>\n",
       "    </tr>\n",
       "    <tr>\n",
       "      <th>2</th>\n",
       "      <td>8789</td>\n",
       "      <td>1200</td>\n",
       "    </tr>\n",
       "    <tr>\n",
       "      <th>3</th>\n",
       "      <td>8793</td>\n",
       "      <td>1000</td>\n",
       "    </tr>\n",
       "    <tr>\n",
       "      <th>4</th>\n",
       "      <td>8794</td>\n",
       "      <td>1000</td>\n",
       "    </tr>\n",
       "  </tbody>\n",
       "</table>\n",
       "</div>"
      ],
      "text/plain": [
       "   dev_id   cap\n",
       "0    6740  1090\n",
       "1    7733  1090\n",
       "2    8789  1200\n",
       "3    8793  1000\n",
       "4    8794  1000"
      ]
     },
     "execution_count": 53,
     "metadata": {},
     "output_type": "execute_result"
    }
   ],
   "source": [
    "df_cap.head()"
   ]
  },
  {
   "cell_type": "code",
   "execution_count": 54,
   "metadata": {},
   "outputs": [
    {
     "data": {
      "text/html": [
       "<div>\n",
       "<style scoped>\n",
       "    .dataframe tbody tr th:only-of-type {\n",
       "        vertical-align: middle;\n",
       "    }\n",
       "\n",
       "    .dataframe tbody tr th {\n",
       "        vertical-align: top;\n",
       "    }\n",
       "\n",
       "    .dataframe thead th {\n",
       "        text-align: right;\n",
       "    }\n",
       "</style>\n",
       "<table border=\"1\" class=\"dataframe\">\n",
       "  <thead>\n",
       "    <tr style=\"text-align: right;\">\n",
       "      <th></th>\n",
       "      <th>dev_id</th>\n",
       "      <th>cap</th>\n",
       "    </tr>\n",
       "  </thead>\n",
       "  <tbody>\n",
       "    <tr>\n",
       "      <th>count</th>\n",
       "      <td>80.000000</td>\n",
       "      <td>80.000000</td>\n",
       "    </tr>\n",
       "    <tr>\n",
       "      <th>mean</th>\n",
       "      <td>40204.887500</td>\n",
       "      <td>1088.312500</td>\n",
       "    </tr>\n",
       "    <tr>\n",
       "      <th>std</th>\n",
       "      <td>19366.399472</td>\n",
       "      <td>268.085033</td>\n",
       "    </tr>\n",
       "    <tr>\n",
       "      <th>min</th>\n",
       "      <td>6740.000000</td>\n",
       "      <td>580.000000</td>\n",
       "    </tr>\n",
       "    <tr>\n",
       "      <th>25%</th>\n",
       "      <td>26065.250000</td>\n",
       "      <td>980.000000</td>\n",
       "    </tr>\n",
       "    <tr>\n",
       "      <th>50%</th>\n",
       "      <td>47451.000000</td>\n",
       "      <td>1000.000000</td>\n",
       "    </tr>\n",
       "    <tr>\n",
       "      <th>75%</th>\n",
       "      <td>56147.500000</td>\n",
       "      <td>1400.000000</td>\n",
       "    </tr>\n",
       "    <tr>\n",
       "      <th>max</th>\n",
       "      <td>62459.000000</td>\n",
       "      <td>1400.000000</td>\n",
       "    </tr>\n",
       "  </tbody>\n",
       "</table>\n",
       "</div>"
      ],
      "text/plain": [
       "             dev_id          cap\n",
       "count     80.000000    80.000000\n",
       "mean   40204.887500  1088.312500\n",
       "std    19366.399472   268.085033\n",
       "min     6740.000000   580.000000\n",
       "25%    26065.250000   980.000000\n",
       "50%    47451.000000  1000.000000\n",
       "75%    56147.500000  1400.000000\n",
       "max    62459.000000  1400.000000"
      ]
     },
     "execution_count": 54,
     "metadata": {},
     "output_type": "execute_result"
    }
   ],
   "source": [
    "df_cap.describe()"
   ]
  },
  {
   "cell_type": "code",
   "execution_count": 55,
   "metadata": {},
   "outputs": [
    {
     "data": {
      "text/plain": [
       "80"
      ]
     },
     "execution_count": 55,
     "metadata": {},
     "output_type": "execute_result"
    }
   ],
   "source": [
    "device_cap_list = df_cap['dev_id'].unique()\n",
    "len(device_cap_list)"
   ]
  },
  {
   "cell_type": "code",
   "execution_count": 56,
   "metadata": {},
   "outputs": [
    {
     "data": {
      "text/plain": [
       "array([1090, 1200, 1000,  820,  990,  825, 1400,  980,  580,  700,  800])"
      ]
     },
     "execution_count": 56,
     "metadata": {},
     "output_type": "execute_result"
    }
   ],
   "source": [
    "cap_list = df_cap['cap'].unique()\n",
    "cap_list"
   ]
  },
  {
   "cell_type": "code",
   "execution_count": 57,
   "metadata": {},
   "outputs": [
    {
     "data": {
      "text/html": [
       "<div>\n",
       "<style scoped>\n",
       "    .dataframe tbody tr th:only-of-type {\n",
       "        vertical-align: middle;\n",
       "    }\n",
       "\n",
       "    .dataframe tbody tr th {\n",
       "        vertical-align: top;\n",
       "    }\n",
       "\n",
       "    .dataframe thead th {\n",
       "        text-align: right;\n",
       "    }\n",
       "</style>\n",
       "<table border=\"1\" class=\"dataframe\">\n",
       "  <thead>\n",
       "    <tr style=\"text-align: right;\">\n",
       "      <th></th>\n",
       "      <th>dev_id</th>\n",
       "      <th>tst</th>\n",
       "      <th>dst</th>\n",
       "      <th>spd</th>\n",
       "      <th>cns_tot</th>\n",
       "      <th>cns_rmg</th>\n",
       "      <th>tst_abs</th>\n",
       "      <th>cap</th>\n",
       "    </tr>\n",
       "  </thead>\n",
       "  <tbody>\n",
       "    <tr>\n",
       "      <th>0</th>\n",
       "      <td>6741</td>\n",
       "      <td>539240401</td>\n",
       "      <td>549799</td>\n",
       "      <td>0</td>\n",
       "      <td>153274.5</td>\n",
       "      <td>99</td>\n",
       "      <td>2017-02-01 05:00:01</td>\n",
       "      <td>1090.0</td>\n",
       "    </tr>\n",
       "    <tr>\n",
       "      <th>1</th>\n",
       "      <td>6741</td>\n",
       "      <td>539243838</td>\n",
       "      <td>549799</td>\n",
       "      <td>0</td>\n",
       "      <td>153274.5</td>\n",
       "      <td>99</td>\n",
       "      <td>2017-02-01 05:57:18</td>\n",
       "      <td>1090.0</td>\n",
       "    </tr>\n",
       "    <tr>\n",
       "      <th>2</th>\n",
       "      <td>6741</td>\n",
       "      <td>539244001</td>\n",
       "      <td>549799</td>\n",
       "      <td>0</td>\n",
       "      <td>153274.5</td>\n",
       "      <td>99</td>\n",
       "      <td>2017-02-01 06:00:01</td>\n",
       "      <td>1090.0</td>\n",
       "    </tr>\n",
       "    <tr>\n",
       "      <th>3</th>\n",
       "      <td>6741</td>\n",
       "      <td>539247601</td>\n",
       "      <td>549799</td>\n",
       "      <td>0</td>\n",
       "      <td>153274.5</td>\n",
       "      <td>99</td>\n",
       "      <td>2017-02-01 07:00:01</td>\n",
       "      <td>1090.0</td>\n",
       "    </tr>\n",
       "    <tr>\n",
       "      <th>4</th>\n",
       "      <td>6741</td>\n",
       "      <td>539247823</td>\n",
       "      <td>549799</td>\n",
       "      <td>0</td>\n",
       "      <td>153274.5</td>\n",
       "      <td>99</td>\n",
       "      <td>2017-02-01 07:03:43</td>\n",
       "      <td>1090.0</td>\n",
       "    </tr>\n",
       "  </tbody>\n",
       "</table>\n",
       "</div>"
      ],
      "text/plain": [
       "   dev_id        tst     dst  spd   cns_tot  cns_rmg             tst_abs  \\\n",
       "0    6741  539240401  549799    0  153274.5       99 2017-02-01 05:00:01   \n",
       "1    6741  539243838  549799    0  153274.5       99 2017-02-01 05:57:18   \n",
       "2    6741  539244001  549799    0  153274.5       99 2017-02-01 06:00:01   \n",
       "3    6741  539247601  549799    0  153274.5       99 2017-02-01 07:00:01   \n",
       "4    6741  539247823  549799    0  153274.5       99 2017-02-01 07:03:43   \n",
       "\n",
       "      cap  \n",
       "0  1090.0  \n",
       "1  1090.0  \n",
       "2  1090.0  \n",
       "3  1090.0  \n",
       "4  1090.0  "
      ]
     },
     "execution_count": 57,
     "metadata": {},
     "output_type": "execute_result"
    }
   ],
   "source": [
    "df_full = df_trips.merge(df_cap, how='left')\n",
    "df_full.head()"
   ]
  },
  {
   "cell_type": "code",
   "execution_count": 58,
   "metadata": {},
   "outputs": [
    {
     "data": {
      "text/plain": [
       "array([1090., 1200., 1000., 1400.,  820.,   nan,  980.,  990.,  700.,\n",
       "        580.,  825.,  800.])"
      ]
     },
     "execution_count": 58,
     "metadata": {},
     "output_type": "execute_result"
    }
   ],
   "source": [
    "cap_full_list = df_full['cap'].unique()\n",
    "cap_full_list"
   ]
  },
  {
   "cell_type": "code",
   "execution_count": 59,
   "metadata": {},
   "outputs": [
    {
     "data": {
      "text/plain": [
       "array([21951, 43371, 43373, 56167, 56175, 62461, 62463, 62981, 64711,\n",
       "       43372, 43374, 43376, 50296, 56170, 62454, 64706, 64708, 64710,\n",
       "       64712, 64714])"
      ]
     },
     "execution_count": 59,
     "metadata": {},
     "output_type": "execute_result"
    }
   ],
   "source": [
    "# List of vehicles for which no capacity is known\n",
    "df_full[df_full['cap'].isnull()]['dev_id'].unique()"
   ]
  },
  {
   "cell_type": "code",
   "execution_count": 112,
   "metadata": {},
   "outputs": [],
   "source": [
    "def plot_specific(dev_id):\n",
    "    \"\"\"Plot the time-series for a specific ID\"\"\"\n",
    "    df_specific = df_full[df_full['dev_id'] == dev_id]\n",
    "    \n",
    "    plt.figure()\n",
    "    fig, subaxes = plt.subplots(1, 3, figsize=(32, 10))\n",
    "    df_specific.plot.scatter(x='tst', y='dst', color='Blue', label='Distance', title='Distance', ax = subaxes[0])\n",
    "    df_specific.plot.scatter(x='tst', y='cns_tot', color='Green', label='Consumption', title='Consumption', ax = subaxes[1])\n",
    "    df_specific.plot.scatter(x='tst', y='cns_rmg', color='Red', label='Remaining', title='Remaining', ax = subaxes[2])\n",
    "    plt.show()   \n"
   ]
  },
  {
   "cell_type": "code",
   "execution_count": 157,
   "metadata": {},
   "outputs": [
    {
     "data": {
      "text/plain": [
       "<matplotlib.figure.Figure at 0x7f70c9046f28>"
      ]
     },
     "metadata": {},
     "output_type": "display_data"
    },
    {
     "data": {
      "image/png": "[encoded data removed]",
      "text/plain": [
       "<matplotlib.figure.Figure at 0x7f70c8e9d048>"
      ]
     },
     "metadata": {},
     "output_type": "display_data"
    }
   ],
   "source": [
    "plot_specific(6741)"
   ]
  },
  {
   "cell_type": "code",
   "execution_count": 306,
   "metadata": {},
   "outputs": [],
   "source": [
    "def get_min_max_index_lists(data):\n",
    "    \"\"\"Lists of indices of the minima and of the maxima.\n",
    "       The values of the series always decrease, from 100 down to some minima.\n",
    "       The indices are not necessarily contiguous (they correspond to\n",
    "       time-stamps in seconds)\"\"\"\n",
    "    last_idx = data.index[0]\n",
    "    last_x = data.iloc[0]\n",
    "    min_idx_list = []\n",
    "    max_idx_list = [last_idx]\n",
    "    first_iteration = True\n",
    "    for idx, x in data.iteritems():\n",
    "        if (x > 90 and x > last_x+20 and first_iteration == False):\n",
    "            min_idx_list.append(last_idx)\n",
    "            max_idx_list.append(idx)\n",
    "        last_idx = idx\n",
    "        last_x = x\n",
    "        first_iteration = False\n",
    "    min_idx_list.append(last_idx)\n",
    "    return (min_idx_list, max_idx_list)"
   ]
  },
  {
   "cell_type": "code",
   "execution_count": 340,
   "metadata": {},
   "outputs": [],
   "source": [
    "df_specific = df_full[df_full['dev_id'] == 6741]"
   ]
  },
  {
   "cell_type": "code",
   "execution_count": 341,
   "metadata": {},
   "outputs": [],
   "source": [
    "df_cns = df_specific.drop_duplicates().set_index('tst')['cns_rmg']"
   ]
  },
  {
   "cell_type": "code",
   "execution_count": 342,
   "metadata": {},
   "outputs": [
    {
     "data": {
      "text/plain": [
       "tst\n",
       "539240401    99\n",
       "539243838    99\n",
       "539244001    99\n",
       "539247601    99\n",
       "539247823    99\n",
       "Name: cns_rmg, dtype: int64"
      ]
     },
     "execution_count": 342,
     "metadata": {},
     "output_type": "execute_result"
    }
   ],
   "source": [
    "df_cns.head()"
   ]
  },
  {
   "cell_type": "code",
   "execution_count": 343,
   "metadata": {},
   "outputs": [],
   "source": [
    "(min_idx_list, max_idx_list) = get_min_max_index_lists(df_cns)"
   ]
  },
  {
   "cell_type": "code",
   "execution_count": 344,
   "metadata": {},
   "outputs": [
    {
     "data": {
      "text/plain": [
       "[539531574, 539825231, 540084189, 540573560, 541297278, 541658062]"
      ]
     },
     "execution_count": 344,
     "metadata": {},
     "output_type": "execute_result"
    }
   ],
   "source": [
    "min_idx_list"
   ]
  },
  {
   "cell_type": "code",
   "execution_count": 345,
   "metadata": {},
   "outputs": [
    {
     "data": {
      "text/plain": [
       "tst\n",
       "539531574    49\n",
       "539825231    68\n",
       "540084189    26\n",
       "540573560    57\n",
       "541297278    41\n",
       "541658062    58\n",
       "Name: cns_rmg, dtype: int64"
      ]
     },
     "execution_count": 345,
     "metadata": {},
     "output_type": "execute_result"
    }
   ],
   "source": [
    "df_cns[min_idx_list]"
   ]
  },
  {
   "cell_type": "code",
   "execution_count": 346,
   "metadata": {},
   "outputs": [
    {
     "data": {
      "text/plain": [
       "[539240401, 539532002, 539825370, 540084329, 540573708, 541297406]"
      ]
     },
     "execution_count": 346,
     "metadata": {},
     "output_type": "execute_result"
    }
   ],
   "source": [
    "max_idx_list"
   ]
  },
  {
   "cell_type": "code",
   "execution_count": 347,
   "metadata": {},
   "outputs": [
    {
     "data": {
      "text/plain": [
       "tst\n",
       "539240401     99\n",
       "539532002     99\n",
       "539825370     99\n",
       "540084329     99\n",
       "540573708    100\n",
       "541297406     99\n",
       "Name: cns_rmg, dtype: int64"
      ]
     },
     "execution_count": 347,
     "metadata": {},
     "output_type": "execute_result"
    }
   ],
   "source": [
    "df_cns[max_idx_list]"
   ]
  },
  {
   "cell_type": "code",
   "execution_count": 348,
   "metadata": {},
   "outputs": [
    {
     "data": {
      "text/plain": [
       "<matplotlib.figure.Figure at 0x7f70bd7eb358>"
      ]
     },
     "metadata": {},
     "output_type": "display_data"
    },
    {
     "data": {
      "image/png": "[encoded data removed]",
      "text/plain": [
       "<matplotlib.figure.Figure at 0x7f70bd7dba90>"
      ]
     },
     "metadata": {},
     "output_type": "display_data"
    }
   ],
   "source": [
    "plt.figure()\n",
    "ax = df_specific.plot.scatter(x='tst', y='cns_rmg', color='Red')\n",
    "ax.scatter(x=min_idx_list, y=df_cns[min_idx_list], color='Blue', s=50)\n",
    "ax.scatter(x=max_idx_list, y=df_cns[max_idx_list], color='Green', s=50)\n",
    "plt.show()"
   ]
  },
  {
   "cell_type": "code",
   "execution_count": 349,
   "metadata": {},
   "outputs": [],
   "source": [
    "df_all = df_specific.drop_duplicates().set_index('tst')"
   ]
  },
  {
   "cell_type": "code",
   "execution_count": 350,
   "metadata": {},
   "outputs": [
    {
     "data": {
      "text/html": [
       "<div>\n",
       "<style scoped>\n",
       "    .dataframe tbody tr th:only-of-type {\n",
       "        vertical-align: middle;\n",
       "    }\n",
       "\n",
       "    .dataframe tbody tr th {\n",
       "        vertical-align: top;\n",
       "    }\n",
       "\n",
       "    .dataframe thead th {\n",
       "        text-align: right;\n",
       "    }\n",
       "</style>\n",
       "<table border=\"1\" class=\"dataframe\">\n",
       "  <thead>\n",
       "    <tr style=\"text-align: right;\">\n",
       "      <th></th>\n",
       "      <th>tst</th>\n",
       "      <th>dst</th>\n",
       "    </tr>\n",
       "  </thead>\n",
       "  <tbody>\n",
       "    <tr>\n",
       "      <th>0</th>\n",
       "      <td>291173</td>\n",
       "      <td>1630</td>\n",
       "    </tr>\n",
       "    <tr>\n",
       "      <th>1</th>\n",
       "      <td>293229</td>\n",
       "      <td>1578</td>\n",
       "    </tr>\n",
       "    <tr>\n",
       "      <th>2</th>\n",
       "      <td>258819</td>\n",
       "      <td>2521</td>\n",
       "    </tr>\n",
       "    <tr>\n",
       "      <th>3</th>\n",
       "      <td>489231</td>\n",
       "      <td>2745</td>\n",
       "    </tr>\n",
       "    <tr>\n",
       "      <th>4</th>\n",
       "      <td>723570</td>\n",
       "      <td>4528</td>\n",
       "    </tr>\n",
       "    <tr>\n",
       "      <th>5</th>\n",
       "      <td>360656</td>\n",
       "      <td>1779</td>\n",
       "    </tr>\n",
       "  </tbody>\n",
       "</table>\n",
       "</div>"
      ],
      "text/plain": [
       "      tst   dst\n",
       "0  291173  1630\n",
       "1  293229  1578\n",
       "2  258819  2521\n",
       "3  489231  2745\n",
       "4  723570  4528\n",
       "5  360656  1779"
      ]
     },
     "execution_count": 350,
     "metadata": {},
     "output_type": "execute_result"
    }
   ],
   "source": [
    "df_dst_list = df_all['dst'][min_idx_list].reset_index() - df_all['dst'][max_idx_list].reset_index()\n",
    "df_dst_list"
   ]
  },
  {
   "cell_type": "code",
   "execution_count": 351,
   "metadata": {},
   "outputs": [
    {
     "data": {
      "text/html": [
       "<div>\n",
       "<style scoped>\n",
       "    .dataframe tbody tr th:only-of-type {\n",
       "        vertical-align: middle;\n",
       "    }\n",
       "\n",
       "    .dataframe tbody tr th {\n",
       "        vertical-align: top;\n",
       "    }\n",
       "\n",
       "    .dataframe thead th {\n",
       "        text-align: right;\n",
       "    }\n",
       "</style>\n",
       "<table border=\"1\" class=\"dataframe\">\n",
       "  <thead>\n",
       "    <tr style=\"text-align: right;\">\n",
       "      <th></th>\n",
       "      <th>tst</th>\n",
       "      <th>cns_tot</th>\n",
       "    </tr>\n",
       "  </thead>\n",
       "  <tbody>\n",
       "    <tr>\n",
       "      <th>0</th>\n",
       "      <td>291173</td>\n",
       "      <td>506.5</td>\n",
       "    </tr>\n",
       "    <tr>\n",
       "      <th>1</th>\n",
       "      <td>293229</td>\n",
       "      <td>475.5</td>\n",
       "    </tr>\n",
       "    <tr>\n",
       "      <th>2</th>\n",
       "      <td>258819</td>\n",
       "      <td>674.0</td>\n",
       "    </tr>\n",
       "    <tr>\n",
       "      <th>3</th>\n",
       "      <td>489231</td>\n",
       "      <td>734.5</td>\n",
       "    </tr>\n",
       "    <tr>\n",
       "      <th>4</th>\n",
       "      <td>723570</td>\n",
       "      <td>1327.0</td>\n",
       "    </tr>\n",
       "    <tr>\n",
       "      <th>5</th>\n",
       "      <td>360656</td>\n",
       "      <td>461.5</td>\n",
       "    </tr>\n",
       "  </tbody>\n",
       "</table>\n",
       "</div>"
      ],
      "text/plain": [
       "      tst  cns_tot\n",
       "0  291173    506.5\n",
       "1  293229    475.5\n",
       "2  258819    674.0\n",
       "3  489231    734.5\n",
       "4  723570   1327.0\n",
       "5  360656    461.5"
      ]
     },
     "execution_count": 351,
     "metadata": {},
     "output_type": "execute_result"
    }
   ],
   "source": [
    "df_cnstot_list = df_all['cns_tot'][min_idx_list].reset_index() - df_all['cns_tot'][max_idx_list].reset_index()\n",
    "df_cnstot_list"
   ]
  },
  {
   "cell_type": "code",
   "execution_count": 359,
   "metadata": {},
   "outputs": [
    {
     "data": {
      "text/html": [
       "<div>\n",
       "<style scoped>\n",
       "    .dataframe tbody tr th:only-of-type {\n",
       "        vertical-align: middle;\n",
       "    }\n",
       "\n",
       "    .dataframe tbody tr th {\n",
       "        vertical-align: top;\n",
       "    }\n",
       "\n",
       "    .dataframe thead th {\n",
       "        text-align: right;\n",
       "    }\n",
       "</style>\n",
       "<table border=\"1\" class=\"dataframe\">\n",
       "  <thead>\n",
       "    <tr style=\"text-align: right;\">\n",
       "      <th></th>\n",
       "      <th>dev_id</th>\n",
       "      <th>dst</th>\n",
       "      <th>spd</th>\n",
       "      <th>cns_tot</th>\n",
       "      <th>cns_rmg</th>\n",
       "      <th>tst_abs</th>\n",
       "      <th>cap</th>\n",
       "    </tr>\n",
       "    <tr>\n",
       "      <th>tst</th>\n",
       "      <th></th>\n",
       "      <th></th>\n",
       "      <th></th>\n",
       "      <th></th>\n",
       "      <th></th>\n",
       "      <th></th>\n",
       "      <th></th>\n",
       "    </tr>\n",
       "  </thead>\n",
       "  <tbody>\n",
       "    <tr>\n",
       "      <th>539240401</th>\n",
       "      <td>6741</td>\n",
       "      <td>549799</td>\n",
       "      <td>0</td>\n",
       "      <td>153274.5</td>\n",
       "      <td>99</td>\n",
       "      <td>2017-02-01 05:00:01</td>\n",
       "      <td>1090.0</td>\n",
       "    </tr>\n",
       "    <tr>\n",
       "      <th>539243838</th>\n",
       "      <td>6741</td>\n",
       "      <td>549799</td>\n",
       "      <td>0</td>\n",
       "      <td>153274.5</td>\n",
       "      <td>99</td>\n",
       "      <td>2017-02-01 05:57:18</td>\n",
       "      <td>1090.0</td>\n",
       "    </tr>\n",
       "    <tr>\n",
       "      <th>539244001</th>\n",
       "      <td>6741</td>\n",
       "      <td>549799</td>\n",
       "      <td>0</td>\n",
       "      <td>153274.5</td>\n",
       "      <td>99</td>\n",
       "      <td>2017-02-01 06:00:01</td>\n",
       "      <td>1090.0</td>\n",
       "    </tr>\n",
       "    <tr>\n",
       "      <th>539247601</th>\n",
       "      <td>6741</td>\n",
       "      <td>549799</td>\n",
       "      <td>0</td>\n",
       "      <td>153274.5</td>\n",
       "      <td>99</td>\n",
       "      <td>2017-02-01 07:00:01</td>\n",
       "      <td>1090.0</td>\n",
       "    </tr>\n",
       "    <tr>\n",
       "      <th>539247823</th>\n",
       "      <td>6741</td>\n",
       "      <td>549799</td>\n",
       "      <td>0</td>\n",
       "      <td>153274.5</td>\n",
       "      <td>99</td>\n",
       "      <td>2017-02-01 07:03:43</td>\n",
       "      <td>1090.0</td>\n",
       "    </tr>\n",
       "  </tbody>\n",
       "</table>\n",
       "</div>"
      ],
      "text/plain": [
       "           dev_id     dst  spd   cns_tot  cns_rmg             tst_abs     cap\n",
       "tst                                                                          \n",
       "539240401    6741  549799    0  153274.5       99 2017-02-01 05:00:01  1090.0\n",
       "539243838    6741  549799    0  153274.5       99 2017-02-01 05:57:18  1090.0\n",
       "539244001    6741  549799    0  153274.5       99 2017-02-01 06:00:01  1090.0\n",
       "539247601    6741  549799    0  153274.5       99 2017-02-01 07:00:01  1090.0\n",
       "539247823    6741  549799    0  153274.5       99 2017-02-01 07:03:43  1090.0"
      ]
     },
     "execution_count": 359,
     "metadata": {},
     "output_type": "execute_result"
    }
   ],
   "source": [
    "df_all.head()"
   ]
  },
  {
   "cell_type": "code",
   "execution_count": 317,
   "metadata": {},
   "outputs": [
    {
     "data": {
      "text/markdown": [
       "# Variations"
      ],
      "text/plain": [
       "<IPython.core.display.Markdown object>"
      ]
     },
     "metadata": {},
     "output_type": "display_data"
    }
   ],
   "source": [
    "%%markdown\n",
    "# Variations"
   ]
  },
  {
   "cell_type": "code",
   "execution_count": 282,
   "metadata": {},
   "outputs": [],
   "source": [
    "def get_peak_index_lists(data):\n",
    "    max_peakind = signal.find_peaks_cwt(df_cns, np.arange(1, 1000))\n",
    "    inv_df = 1./df_cns\n",
    "    min_peakind = signal.find_peaks_cwt(inv_df, np.arange(1, 1000))\n",
    "    return (min_peakind, max_peakind)"
   ]
  },
  {
   "cell_type": "code",
   "execution_count": 285,
   "metadata": {},
   "outputs": [],
   "source": [
    "df_cns_rawidx = df_specific['cns_rmg']"
   ]
  },
  {
   "cell_type": "code",
   "execution_count": 286,
   "metadata": {},
   "outputs": [],
   "source": [
    "(min_peakind, max_peakind) = get_peak_index_lists(df_cns_rawidx)"
   ]
  },
  {
   "cell_type": "code",
   "execution_count": 287,
   "metadata": {},
   "outputs": [
    {
     "data": {
      "text/plain": [
       "4        99\n",
       "1325     68\n",
       "2492     91\n",
       "3257     65\n",
       "4023     71\n",
       "4727     53\n",
       "6081     99\n",
       "7029     92\n",
       "7650     71\n",
       "9258     68\n",
       "10667    36\n",
       "Name: cns_rmg, dtype: int64"
      ]
     },
     "execution_count": 287,
     "metadata": {},
     "output_type": "execute_result"
    }
   ],
   "source": [
    "df_cns_rawidx[max_peakind]"
   ]
  },
  {
   "cell_type": "code",
   "execution_count": 288,
   "metadata": {},
   "outputs": [
    {
     "data": {
      "text/plain": [
       "4        99\n",
       "1317     64\n",
       "2484     90\n",
       "2936     69\n",
       "4015     71\n",
       "4718     53\n",
       "6073     99\n",
       "6495     73\n",
       "7638     71\n",
       "9250     68\n",
       "10667    36\n",
       "Name: cns_rmg, dtype: int64"
      ]
     },
     "execution_count": 288,
     "metadata": {},
     "output_type": "execute_result"
    }
   ],
   "source": [
    "df_cns_rawidx[min_peakind]"
   ]
  },
  {
   "cell_type": "code",
   "execution_count": null,
   "metadata": {},
   "outputs": [],
   "source": []
  }
 ],
 "metadata": {
  "kernelspec": {
   "display_name": "Python 3",
   "language": "python",
   "name": "python3"
  },
  "language_info": {
   "codemirror_mode": {
    "name": "ipython",
    "version": 3
   },
   "file_extension": ".py",
   "mimetype": "text/x-python",
   "name": "python",
   "nbconvert_exporter": "python",
   "pygments_lexer": "ipython3",
   "version": "3.4.5"
  }
 },
 "nbformat": 4,
 "nbformat_minor": 2
}
